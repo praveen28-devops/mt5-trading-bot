{
 "cells": [
  {
   "cell_type": "markdown",
   "metadata": {},
   "source": [
    "# 🚀 High-Risk Leveraged MT5 Trading Bot (SMA Crossover Strategy)\n",
    "\n",
    "**⚠️ DISCLAIMER: This notebook is for educational and demo purposes only. High-risk leveraged trading can result in significant losses. Never use real capital without proper backtesting and risk management.**\n",
    "\n",
    "This comprehensive notebook demonstrates building a high-risk leveraged trading bot using the MetaTrader 5 platform in Python. The strategy uses a simple moving average (SMA) crossover technique on 5-minute candles with aggressive parameters.\n",
    "\n",
    "## 🎯 Strategy Overview\n",
    "- **Strategy**: SMA Crossover (Fast=5, Slow=20)\n",
    "- **Timeframe**: 5-minute candles (M5)\n",
    "- **Leverage**: 1:5\n",
    "- **Lot Size**: 1.0 (high-risk)\n",
    "- **Stop Loss**: 10 pips\n",
    "- **Take Profit**: 20 pips\n",
    "- **Frequency**: Every 60 seconds\n",
    "\n",
    "---"
   ]
  },
  {
   "cell_type": "markdown",
   "metadata": {},
   "source": [
    "## 📚 Table of Contents\n",
    "1. [Installation & Setup](#Installation-&-Setup)\n",
    "2. [Configuration & Parameters](#Configuration-&-Parameters)\n",
    "3. [MT5 Connection](#MT5-Connection)\n",
    "4. [Data Fetching & Visualization](#Data-Fetching-&-Visualization)\n",
    "5. [SMA Crossover Strategy](#SMA-Crossover-Strategy)\n",
    "6. [Trade Execution Engine](#Trade-Execution-Engine)\n",
    "7. [Backtesting Module](#Backtesting-Module)\n",
    "8. [Live Trading Bot](#Live-Trading-Bot)\n",
    "9. [Trade Logging & Export](#Trade-Logging-&-Export)\n",
    "10. [Parameter Tuning](#Parameter-Tuning)\n",
    "11. [Risk Management](#Risk-Management)\n",
    "12. [Performance Monitoring](#Performance-Monitoring)\n"
   ]
  },
  {
   "cell_type": "markdown",
   "metadata": {},
   "source": [
    "## 🔧 Installation & Setup\n",
    "\n",
    "First, install all required libraries. Run this command in your terminal:\n",
    "\n",
    "```bash\n",
    "pip install MetaTrader5 pandas matplotlib numpy seaborn plotly\n",
    "```\n",
    "\n",
    "If you encounter issues, try:\n",
    "```bash\n",
    "pip install --upgrade MetaTrader5\n",
    "pip install --upgrade pandas\n",
    "```"
   ]
  },
  {
   "cell_type": "code",
   "execution_count": null,
   "metadata": {},
   "outputs": [],
   "source": [
    "import MetaTrader5 as mt5\n",
    "import pandas as pd\n",
    "import matplotlib.pyplot as plt\n",
    "from datetime import datetime\n",
    "import time\n"
   ]
  },
  {
   "cell_type": "markdown",
   "metadata": {},
   "source": [
    "## MT5 Initialization\n",
    "\n",
    "Connect to your MetaTrader 5 account and verify the connection.\n"
   ]
  },
  {
   "cell_type": "code",
   "execution_count": null,
   "metadata": {},
   "outputs": [],
   "source": [
    "ACCOUNT = 'YOUR_ACCOUNT'\n",
    "PASSWORD = 'YOUR_PASSWORD'\n",
    "SERVER = 'YOUR_SERVER'\n",
    "\n",
    "mt5.initialize()\n",
    "account_info = mt5.account_info()\n",
    "if account_info is None:\n",
    "    print(\"Failed to connect to MT5\")\n",
    "else:\n",
    "    print(\"Connected to MT5 account \" + str(account_info.login))\n",
    "    print(\"Balance: \" + str(account_info.balance))\n"
   ]
  },
  {
   "cell_type": "markdown",
   "metadata": {},
   "source": [
    "## Data Fetching\n",
    "\n",
    "Fetch historical price data required for strategy execution.\n"
   ]
  },
  {
   "cell_type": "code",
   "execution_count": null,
   "metadata": {},
   "outputs": [],
   "source": [
    "symbol = 'EURUSD'\n",
    "timeframe = mt5.TIMEFRAME_M5\n",
    "rates = mt5.copy_rates_from_pos(symbol, timeframe, 0, 200)\n",
    "df = pd.DataFrame(rates)\n",
    "df['time'] = pd.to_datetime(df['time'], unit='s')\n",
    "df.set_index('time', inplace=True)\n",
    "df.head()"
   ]
  },
  {
   "cell_type": "markdown",
   "metadata": {},
   "source": [
    "## Strategy and Signal Generation\n",
    "\n",
    "Define the SMA crossover strategy and generate buy/sell signals.\n"
   ]
  },
  {
   "cell_type": "code",
   "execution_count": null,
   "metadata": {},
   "outputs": [],
   "source": [
    "sma_fast = 5\n",
    "sma_slow = 20\n",
    "\n",
    "df['sma_fast'] = df['close'].rolling(sma_fast).mean()\n",
    "df['sma_slow'] = df['close'].rolling(sma_slow).mean()\n",
    "\n",
    "# Generate signals\n",
    "df['signal'] = 0\n",
    "df.loc[df['sma_fast'] > df['sma_slow'], 'signal'] = 1  # Buy signal\n",
    "df.loc[df['sma_fast'] < df['sma_slow'], 'signal'] = -1  # Sell signal\n",
    "df['positions'] = df['signal'].diff()\n",
    "\n",
    "# Plot to visualize\n",
    "plt.figure(figsize=(12, 6))\n",
    "plt.plot(df.index, df['close'], label='Close')\n",
    "plt.plot(df.index, df['sma_fast'], label=f'SMA {sma_fast}')\n",
    "plt.plot(df.index, df['sma_slow'], label=f'SMA {sma_slow}')\n",
    "plt.scatter(df.index, df['close'], c=df['positions'], cmap='viridis')\n",
    "plt.legend()\n",
    "plt.show()"
   ]
  },
  {
   "cell_type": "markdown",
   "metadata": {},
   "source": [
    "## Trade Execution\n",
    "\n",
    "Automatically execute trades based on the generated signals.\n"
   ]
  },
  {
   "cell_type": "code",
   "execution_count": null,
   "metadata": {},
   "outputs": [],
   "source": [
    "def execute_trade(position, volume=1.0):\n",
    "    symbol_info = mt5.symbol_info(symbol)\n",
    "    if symbol_info is None:\n",
    "        print(f'Failed to get {symbol} info')\n",
    "        return\n",
    "\n",
    "    if not symbol_info.visible:\n",
    "        if not mt5.symbol_select(symbol, True):\n",
    "            print(f'Failed to select symbol {symbol}')\n",
    "            return\n",
    "\n",
    "    request = {\n",
    "        'action': mt5.TRADE_ACTION_DEAL,\n",
    "        'symbol': symbol,\n",
    "        'volume': volume,\n",
    "        'type': mt5.ORDER_TYPE_BUY if position == 1 else mt5.ORDER_TYPE_SELL,\n",
    "        'price': mt5.symbol_info_tick(symbol).ask if position == 1 else mt5.symbol_info_tick(symbol).bid,\n",
    "        'sl': 10 * mt5.symbol_info(symbol).point,\n",
    "        'tp': 20 * mt5.symbol_info(symbol).point,\n",
    "        'deviation': 2,\n",
    "        'magic': 123456,\n",
    "        'comment': 'SMA Crossover',\n",
    "        'type_time': mt5.ORDER_TIME_GTC,\n",
    "        'type_filling': mt5.ORDER_FILLING_AON,\n",
    "    }\n",
    "    result = mt5.order_send(request)\n",
    "    \n",
    "    if result.retcode != mt5.TRADE_RETCODE_DONE:\n",
    "        print(f'Failed to execute order: {result.retcode}')\n",
    "    else:\n",
    "        print(f'Order executed successfully for {symbol}')\n",
    "\n",
    "# Execute trades\n",
    "for index, row in df[df['positions'] != 0].iterrows():\n",
    "    execute_trade(row['positions'])"
   ]
  },
  {
   "cell_type": "markdown",
   "metadata": {},
   "source": [
    "## Running the Bot\n",
    "\n",
    "Include a loop to run the strategy at specified intervals (commented out to prevent accidental execution).\n"
   ]
  },
  {
   "cell_type": "code",
   "execution_count": null,
   "metadata": {},
   "outputs": [],
   "source": [
    "# while True:\n",
    "#     now = datetime.now()\n",
    "#     if now.isoweekday() in range(1, 6) and now.hour in range(1, 23):\n",
    "#         # Fetch data, calculate signals, execute trades\n",
    "#         pass\n",
    "#     time.sleep(60)\n"
   ]
  },
  {
   "cell_type": "markdown",
   "metadata": {},
   "source": [
    "## Conclusion\n",
    "\n",
    "This notebook has demonstrated how to create a high-risk leveraged trading bot using a simple moving average crossover strategy in MetaTrader 5.\n"
   ]
  }
 ],
 "metadata": {
  "kernelspec": {
   "display_name": "Python 3",
   "language": "python",
   "name": "python3"
  },
  "language_info": {
   "codemirror_mode": {
    "name": "ipython",
    "version": 3
   },
   "file_extension": ".py",
   "mimetype": "text/x-python",
   "name": "python",
   "nbconvert_exporter": "python",
   "pygments_lexer": "ipython3",
   "version": "3.8.5"
  }
 },
 "nbformat": 4,
 "nbformat_minor": 5
}

